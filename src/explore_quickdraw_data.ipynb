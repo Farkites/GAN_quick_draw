{
 "cells": [
  {
   "cell_type": "code",
   "execution_count": null,
   "id": "leading-cassette",
   "metadata": {},
   "outputs": [],
   "source": [
    "import os\n",
    "import numpy as np\n",
    "import sys\n",
    "from PIL import Image\n",
    "import PIL.ImageOps\n",
    "\n",
    "%config Completer.use_jedi = False"
   ]
  },
  {
   "cell_type": "markdown",
   "id": "nuclear-german",
   "metadata": {},
   "source": [
    "# from np bitmap\n",
    "\n",
    "https://medium.com/tensorflow/train-on-google-colab-and-run-on-the-browser-a-case-study-8a45f9b1474e\n",
    "\n",
    "data from: \n",
    "https://github.com/googlecreativelab/quickdraw-dataset#get-the-data"
   ]
  },
  {
   "cell_type": "code",
   "execution_count": null,
   "id": "interracial-trance",
   "metadata": {},
   "outputs": [],
   "source": [
    "import time\n",
    "file = '../../../../Downloads/full_numpy_bitmap_sheep.npy'\n",
    "class_name, ext = os.path.splitext(os.path.basename(file))\n",
    "\n",
    "sheep = np.load(file)"
   ]
  },
  {
   "cell_type": "code",
   "execution_count": null,
   "id": "permanent-trainer",
   "metadata": {
    "scrolled": false
   },
   "outputs": [],
   "source": [
    "from matplotlib.pyplot import imshow\n",
    "from IPython.display import display, clear_output\n",
    "count = 0\n",
    "width=28\n",
    "height=28\n",
    "zoom=1\n",
    "for s in sheep: \n",
    "    clear_output(wait=True)\n",
    "    count += 1\n",
    "    a = s.reshape(28,28)\n",
    "\n",
    "    f_img = Image.fromarray(a)\n",
    "    img = PIL.ImageOps.invert(f_img)\n",
    "    display(img.resize((zoom*width, zoom*height), Image.BICUBIC, reducing_gap=3))\n",
    "    time.sleep(.5)\n",
    "    if count == 20: \n",
    "        break\n"
   ]
  },
  {
   "cell_type": "code",
   "execution_count": null,
   "id": "aggregate-mills",
   "metadata": {},
   "outputs": [],
   "source": [
    "from matplotlib.pyplot import imshow\n",
    "\n",
    "\n",
    "img = imshow(a)\n",
    "img"
   ]
  },
  {
   "cell_type": "markdown",
   "id": "married-posting",
   "metadata": {},
   "source": [
    "## data from quickdraw lib\n",
    "https://quickdraw.readthedocs.io/en/latest/index.html\n",
    "\n",
    "\n",
    "RGB to grey\n",
    "\n",
    "https://stackoverflow.com/questions/41966514/how-fast-in-python-change-3-channel-rgb-color-image-to-1-channel-gray\n"
   ]
  },
  {
   "cell_type": "code",
   "execution_count": null,
   "id": "criminal-cocktail",
   "metadata": {},
   "outputs": [],
   "source": [
    "import quickdraw as qd\n",
    "\n",
    "qd_data = qd.QuickDrawData()"
   ]
  },
  {
   "cell_type": "code",
   "execution_count": null,
   "id": "academic-battle",
   "metadata": {},
   "outputs": [],
   "source": [
    "qd_data.drawing_names"
   ]
  },
  {
   "cell_type": "code",
   "execution_count": null,
   "id": "accessory-running",
   "metadata": {},
   "outputs": [],
   "source": [
    "sheep = qd.QuickDrawDataGroup('sheep', recognized=True)"
   ]
  },
  {
   "cell_type": "code",
   "execution_count": null,
   "id": "digital-schedule",
   "metadata": {},
   "outputs": [],
   "source": [
    "sheep.drawing_count"
   ]
  },
  {
   "cell_type": "code",
   "execution_count": null,
   "id": "personal-hearing",
   "metadata": {
    "scrolled": true
   },
   "outputs": [],
   "source": [
    "sheep1 = sheep.get_drawing(0)\n",
    "img = sheep1.image\n",
    "\n",
    "img\n",
    "img = img.crop()\n",
    "img\n",
    "np.array(img)"
   ]
  },
  {
   "cell_type": "code",
   "execution_count": null,
   "id": "immune-turtle",
   "metadata": {},
   "outputs": [],
   "source": [
    "count = 0\n",
    "width=28\n",
    "height=28\n",
    "zoom=1\n",
    "for idx in list(range(sheep.drawing_count)): \n",
    "\n",
    "    clear_output(wait=True)\n",
    "    count += 1\n",
    "    \n",
    "    drawing = sheep.get_drawing(idx)\n",
    "    img = drawing.image\n",
    "    if False: \n",
    "        a = s.reshape(28,28)\n",
    "\n",
    "        f_img = Image.fromarray(a)\n",
    "        img = PIL.ImageOps.invert(f_img)\n",
    "        display(img.resize((zoom*width, zoom*height), Image.BICUBIC, reducing_gap=3))\n",
    "    \n",
    "    display(img)\n",
    "    time.sleep(.5)\n",
    "    if count == 20: \n",
    "        break\n"
   ]
  },
  {
   "cell_type": "markdown",
   "id": "crucial-agreement",
   "metadata": {},
   "source": [
    "## data from quickdraw10 lib\n",
    "\n",
    "https://colab.research.google.com/github/zaidalyafeai/Notebooks/blob/master/QuickDraw10.ipynb#scrollTo=6o30ipBPAQ5Y\n"
   ]
  },
  {
   "cell_type": "code",
   "execution_count": null,
   "id": "quarterly-worship",
   "metadata": {},
   "outputs": [],
   "source": []
  },
  {
   "cell_type": "markdown",
   "id": "brief-roman",
   "metadata": {},
   "source": [
    "## ndjson to svg\n",
    "https://pypi.org/project/ndjsonTosvg/\n",
    "\n",
    "https://github.com/thompson318/ndjsonTosvg/blob/master/ndjsontosvg/ui/ndjsontosvg_command_line.py\n"
   ]
  }
 ],
 "metadata": {
  "kernelspec": {
   "display_name": "Python 3",
   "language": "python",
   "name": "python3"
  },
  "language_info": {
   "codemirror_mode": {
    "name": "ipython",
    "version": 3
   },
   "file_extension": ".py",
   "mimetype": "text/x-python",
   "name": "python",
   "nbconvert_exporter": "python",
   "pygments_lexer": "ipython3",
   "version": "3.8.5"
  }
 },
 "nbformat": 4,
 "nbformat_minor": 5
}
